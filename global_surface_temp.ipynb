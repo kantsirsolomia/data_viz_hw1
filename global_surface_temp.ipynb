{
 "cells": [
  {
   "cell_type": "code",
   "execution_count": 11,
   "id": "58358448",
   "metadata": {},
   "outputs": [],
   "source": [
    "import pandas as pd\n",
    "import altair as alt"
   ]
  },
  {
   "cell_type": "code",
   "execution_count": 357,
   "id": "3ca73928",
   "metadata": {},
   "outputs": [
    {
     "data": {
      "text/html": [
       "<div>\n",
       "<style scoped>\n",
       "    .dataframe tbody tr th:only-of-type {\n",
       "        vertical-align: middle;\n",
       "    }\n",
       "\n",
       "    .dataframe tbody tr th {\n",
       "        vertical-align: top;\n",
       "    }\n",
       "\n",
       "    .dataframe thead th {\n",
       "        text-align: right;\n",
       "    }\n",
       "</style>\n",
       "<table border=\"1\" class=\"dataframe\">\n",
       "  <thead>\n",
       "    <tr style=\"text-align: right;\">\n",
       "      <th></th>\n",
       "      <th>Year</th>\n",
       "      <th>J-D</th>\n",
       "    </tr>\n",
       "  </thead>\n",
       "  <tbody>\n",
       "    <tr>\n",
       "      <th>0</th>\n",
       "      <td>1880</td>\n",
       "      <td>-0.19</td>\n",
       "    </tr>\n",
       "    <tr>\n",
       "      <th>1</th>\n",
       "      <td>1881</td>\n",
       "      <td>-0.10</td>\n",
       "    </tr>\n",
       "    <tr>\n",
       "      <th>2</th>\n",
       "      <td>1882</td>\n",
       "      <td>-0.10</td>\n",
       "    </tr>\n",
       "    <tr>\n",
       "      <th>3</th>\n",
       "      <td>1883</td>\n",
       "      <td>-0.19</td>\n",
       "    </tr>\n",
       "    <tr>\n",
       "      <th>4</th>\n",
       "      <td>1884</td>\n",
       "      <td>-0.29</td>\n",
       "    </tr>\n",
       "    <tr>\n",
       "      <th>...</th>\n",
       "      <td>...</td>\n",
       "      <td>...</td>\n",
       "    </tr>\n",
       "    <tr>\n",
       "      <th>133</th>\n",
       "      <td>2013</td>\n",
       "      <td>0.64</td>\n",
       "    </tr>\n",
       "    <tr>\n",
       "      <th>134</th>\n",
       "      <td>2014</td>\n",
       "      <td>0.73</td>\n",
       "    </tr>\n",
       "    <tr>\n",
       "      <th>135</th>\n",
       "      <td>2015</td>\n",
       "      <td>0.86</td>\n",
       "    </tr>\n",
       "    <tr>\n",
       "      <th>136</th>\n",
       "      <td>2016</td>\n",
       "      <td>0.99</td>\n",
       "    </tr>\n",
       "    <tr>\n",
       "      <th>137</th>\n",
       "      <td>2017</td>\n",
       "      <td>0.90</td>\n",
       "    </tr>\n",
       "  </tbody>\n",
       "</table>\n",
       "<p>138 rows × 2 columns</p>\n",
       "</div>"
      ],
      "text/plain": [
       "     Year   J-D\n",
       "0    1880 -0.19\n",
       "1    1881 -0.10\n",
       "2    1882 -0.10\n",
       "3    1883 -0.19\n",
       "4    1884 -0.29\n",
       "..    ...   ...\n",
       "133  2013  0.64\n",
       "134  2014  0.73\n",
       "135  2015  0.86\n",
       "136  2016  0.99\n",
       "137  2017  0.90\n",
       "\n",
       "[138 rows x 2 columns]"
      ]
     },
     "execution_count": 357,
     "metadata": {},
     "output_type": "execute_result"
    }
   ],
   "source": [
    "df = pd.read_csv('../data visual hw 1/GLB.Ts_dSST.csv', header=1 )\n",
    "df.drop(df.columns.difference(['Year', 'J-D']), axis = 1, inplace = True)\n",
    "df"
   ]
  },
  {
   "cell_type": "code",
   "execution_count": 114,
   "id": "c834420d",
   "metadata": {},
   "outputs": [
    {
     "data": {
      "text/plain": [
       "Year      int64\n",
       "J-D     float64\n",
       "dtype: object"
      ]
     },
     "execution_count": 114,
     "metadata": {},
     "output_type": "execute_result"
    }
   ],
   "source": [
    "df.dtypes"
   ]
  },
  {
   "cell_type": "code",
   "execution_count": 132,
   "id": "3bd68d3b",
   "metadata": {},
   "outputs": [
    {
     "data": {
      "text/plain": [
       "0.02586956521739128"
      ]
     },
     "execution_count": 132,
     "metadata": {},
     "output_type": "execute_result"
    }
   ],
   "source": [
    "df[\"J-D\"].mean()"
   ]
  },
  {
   "cell_type": "code",
   "execution_count": 248,
   "id": "c6fb887c",
   "metadata": {},
   "outputs": [
    {
     "data": {
      "text/html": [
       "\n",
       "<div id=\"altair-viz-f181b22451064c89b130f531abfc0515\"></div>\n",
       "<script type=\"text/javascript\">\n",
       "  (function(spec, embedOpt){\n",
       "    let outputDiv = document.currentScript.previousElementSibling;\n",
       "    if (outputDiv.id !== \"altair-viz-f181b22451064c89b130f531abfc0515\") {\n",
       "      outputDiv = document.getElementById(\"altair-viz-f181b22451064c89b130f531abfc0515\");\n",
       "    }\n",
       "    const paths = {\n",
       "      \"vega\": \"https://cdn.jsdelivr.net/npm//vega@5?noext\",\n",
       "      \"vega-lib\": \"https://cdn.jsdelivr.net/npm//vega-lib?noext\",\n",
       "      \"vega-lite\": \"https://cdn.jsdelivr.net/npm//vega-lite@4.8.1?noext\",\n",
       "      \"vega-embed\": \"https://cdn.jsdelivr.net/npm//vega-embed@6?noext\",\n",
       "    };\n",
       "\n",
       "    function loadScript(lib) {\n",
       "      return new Promise(function(resolve, reject) {\n",
       "        var s = document.createElement('script');\n",
       "        s.src = paths[lib];\n",
       "        s.async = true;\n",
       "        s.onload = () => resolve(paths[lib]);\n",
       "        s.onerror = () => reject(`Error loading script: ${paths[lib]}`);\n",
       "        document.getElementsByTagName(\"head\")[0].appendChild(s);\n",
       "      });\n",
       "    }\n",
       "\n",
       "    function showError(err) {\n",
       "      outputDiv.innerHTML = `<div class=\"error\" style=\"color:red;\">${err}</div>`;\n",
       "      throw err;\n",
       "    }\n",
       "\n",
       "    function displayChart(vegaEmbed) {\n",
       "      vegaEmbed(outputDiv, spec, embedOpt)\n",
       "        .catch(err => showError(`Javascript Error: ${err.message}<br>This usually means there's a typo in your chart specification. See the javascript console for the full traceback.`));\n",
       "    }\n",
       "\n",
       "    if(typeof define === \"function\" && define.amd) {\n",
       "      requirejs.config({paths});\n",
       "      require([\"vega-embed\"], displayChart, err => showError(`Error loading script: ${err.message}`));\n",
       "    } else if (typeof vegaEmbed === \"function\") {\n",
       "      displayChart(vegaEmbed);\n",
       "    } else {\n",
       "      loadScript(\"vega\")\n",
       "        .then(() => loadScript(\"vega-lite\"))\n",
       "        .then(() => loadScript(\"vega-embed\"))\n",
       "        .catch(showError)\n",
       "        .then(() => displayChart(vegaEmbed));\n",
       "    }\n",
       "  })({\"config\": {\"view\": {\"continuousWidth\": 400, \"continuousHeight\": 300}}, \"data\": {\"name\": \"data-5cba552e0fd77e6cbafb6fd4c5c45f10\"}, \"mark\": {\"type\": \"point\", \"color\": \"#708090\", \"fill\": \"#FF6347\", \"size\": 100, \"strokeWidth\": 0.5}, \"encoding\": {\"x\": {\"type\": \"quantitative\", \"field\": \"Year\", \"scale\": {\"zero\": false}, \"title\": null}, \"y\": {\"type\": \"quantitative\", \"field\": \"J-D\", \"scale\": {\"zero\": false}, \"title\": null}}, \"$schema\": \"https://vega.github.io/schema/vega-lite/v4.8.1.json\", \"datasets\": {\"data-5cba552e0fd77e6cbafb6fd4c5c45f10\": [{\"Year\": 1880, \"J-D\": -0.19}, {\"Year\": 1881, \"J-D\": -0.1}, {\"Year\": 1882, \"J-D\": -0.1}, {\"Year\": 1883, \"J-D\": -0.19}, {\"Year\": 1884, \"J-D\": -0.29}, {\"Year\": 1885, \"J-D\": -0.31}, {\"Year\": 1886, \"J-D\": -0.32}, {\"Year\": 1887, \"J-D\": -0.35}, {\"Year\": 1888, \"J-D\": -0.18}, {\"Year\": 1889, \"J-D\": -0.11}, {\"Year\": 1890, \"J-D\": -0.37}, {\"Year\": 1891, \"J-D\": -0.24}, {\"Year\": 1892, \"J-D\": -0.27}, {\"Year\": 1893, \"J-D\": -0.32}, {\"Year\": 1894, \"J-D\": -0.32}, {\"Year\": 1895, \"J-D\": -0.22}, {\"Year\": 1896, \"J-D\": -0.11}, {\"Year\": 1897, \"J-D\": -0.12}, {\"Year\": 1898, \"J-D\": -0.28}, {\"Year\": 1899, \"J-D\": -0.18}, {\"Year\": 1900, \"J-D\": -0.09}, {\"Year\": 1901, \"J-D\": -0.15}, {\"Year\": 1902, \"J-D\": -0.3}, {\"Year\": 1903, \"J-D\": -0.39}, {\"Year\": 1904, \"J-D\": -0.49}, {\"Year\": 1905, \"J-D\": -0.29}, {\"Year\": 1906, \"J-D\": -0.23}, {\"Year\": 1907, \"J-D\": -0.4}, {\"Year\": 1908, \"J-D\": -0.44}, {\"Year\": 1909, \"J-D\": -0.48}, {\"Year\": 1910, \"J-D\": -0.44}, {\"Year\": 1911, \"J-D\": -0.43}, {\"Year\": 1912, \"J-D\": -0.36}, {\"Year\": 1913, \"J-D\": -0.35}, {\"Year\": 1914, \"J-D\": -0.16}, {\"Year\": 1915, \"J-D\": -0.12}, {\"Year\": 1916, \"J-D\": -0.33}, {\"Year\": 1917, \"J-D\": -0.43}, {\"Year\": 1918, \"J-D\": -0.28}, {\"Year\": 1919, \"J-D\": -0.27}, {\"Year\": 1920, \"J-D\": -0.25}, {\"Year\": 1921, \"J-D\": -0.17}, {\"Year\": 1922, \"J-D\": -0.27}, {\"Year\": 1923, \"J-D\": -0.24}, {\"Year\": 1924, \"J-D\": -0.25}, {\"Year\": 1925, \"J-D\": -0.21}, {\"Year\": 1926, \"J-D\": -0.09}, {\"Year\": 1927, \"J-D\": -0.2}, {\"Year\": 1928, \"J-D\": -0.19}, {\"Year\": 1929, \"J-D\": -0.35}, {\"Year\": 1930, \"J-D\": -0.15}, {\"Year\": 1931, \"J-D\": -0.1}, {\"Year\": 1932, \"J-D\": -0.17}, {\"Year\": 1933, \"J-D\": -0.3}, {\"Year\": 1934, \"J-D\": -0.14}, {\"Year\": 1935, \"J-D\": -0.21}, {\"Year\": 1936, \"J-D\": -0.16}, {\"Year\": 1937, \"J-D\": -0.04}, {\"Year\": 1938, \"J-D\": -0.03}, {\"Year\": 1939, \"J-D\": -0.03}, {\"Year\": 1940, \"J-D\": 0.11}, {\"Year\": 1941, \"J-D\": 0.18}, {\"Year\": 1942, \"J-D\": 0.05}, {\"Year\": 1943, \"J-D\": 0.07}, {\"Year\": 1944, \"J-D\": 0.21}, {\"Year\": 1945, \"J-D\": 0.09}, {\"Year\": 1946, \"J-D\": -0.07}, {\"Year\": 1947, \"J-D\": -0.04}, {\"Year\": 1948, \"J-D\": -0.11}, {\"Year\": 1949, \"J-D\": -0.11}, {\"Year\": 1950, \"J-D\": -0.19}, {\"Year\": 1951, \"J-D\": -0.07}, {\"Year\": 1952, \"J-D\": 0.01}, {\"Year\": 1953, \"J-D\": 0.07}, {\"Year\": 1954, \"J-D\": -0.15}, {\"Year\": 1955, \"J-D\": -0.14}, {\"Year\": 1956, \"J-D\": -0.2}, {\"Year\": 1957, \"J-D\": 0.04}, {\"Year\": 1958, \"J-D\": 0.07}, {\"Year\": 1959, \"J-D\": 0.03}, {\"Year\": 1960, \"J-D\": -0.02}, {\"Year\": 1961, \"J-D\": 0.06}, {\"Year\": 1962, \"J-D\": 0.04}, {\"Year\": 1963, \"J-D\": 0.07}, {\"Year\": 1964, \"J-D\": -0.2}, {\"Year\": 1965, \"J-D\": -0.1}, {\"Year\": 1966, \"J-D\": -0.05}, {\"Year\": 1967, \"J-D\": -0.02}, {\"Year\": 1968, \"J-D\": -0.07}, {\"Year\": 1969, \"J-D\": 0.07}, {\"Year\": 1970, \"J-D\": 0.03}, {\"Year\": 1971, \"J-D\": -0.09}, {\"Year\": 1972, \"J-D\": 0.01}, {\"Year\": 1973, \"J-D\": 0.16}, {\"Year\": 1974, \"J-D\": -0.08}, {\"Year\": 1975, \"J-D\": -0.02}, {\"Year\": 1976, \"J-D\": -0.11}, {\"Year\": 1977, \"J-D\": 0.17}, {\"Year\": 1978, \"J-D\": 0.06}, {\"Year\": 1979, \"J-D\": 0.16}, {\"Year\": 1980, \"J-D\": 0.27}, {\"Year\": 1981, \"J-D\": 0.33}, {\"Year\": 1982, \"J-D\": 0.13}, {\"Year\": 1983, \"J-D\": 0.31}, {\"Year\": 1984, \"J-D\": 0.16}, {\"Year\": 1985, \"J-D\": 0.12}, {\"Year\": 1986, \"J-D\": 0.18}, {\"Year\": 1987, \"J-D\": 0.33}, {\"Year\": 1988, \"J-D\": 0.41}, {\"Year\": 1989, \"J-D\": 0.29}, {\"Year\": 1990, \"J-D\": 0.44}, {\"Year\": 1991, \"J-D\": 0.41}, {\"Year\": 1992, \"J-D\": 0.22}, {\"Year\": 1993, \"J-D\": 0.24}, {\"Year\": 1994, \"J-D\": 0.31}, {\"Year\": 1995, \"J-D\": 0.44}, {\"Year\": 1996, \"J-D\": 0.33}, {\"Year\": 1997, \"J-D\": 0.47}, {\"Year\": 1998, \"J-D\": 0.62}, {\"Year\": 1999, \"J-D\": 0.4}, {\"Year\": 2000, \"J-D\": 0.4}, {\"Year\": 2001, \"J-D\": 0.54}, {\"Year\": 2002, \"J-D\": 0.62}, {\"Year\": 2003, \"J-D\": 0.61}, {\"Year\": 2004, \"J-D\": 0.53}, {\"Year\": 2005, \"J-D\": 0.67}, {\"Year\": 2006, \"J-D\": 0.62}, {\"Year\": 2007, \"J-D\": 0.64}, {\"Year\": 2008, \"J-D\": 0.52}, {\"Year\": 2009, \"J-D\": 0.63}, {\"Year\": 2010, \"J-D\": 0.7}, {\"Year\": 2011, \"J-D\": 0.58}, {\"Year\": 2012, \"J-D\": 0.61}, {\"Year\": 2013, \"J-D\": 0.64}, {\"Year\": 2014, \"J-D\": 0.73}, {\"Year\": 2015, \"J-D\": 0.86}, {\"Year\": 2016, \"J-D\": 0.99}, {\"Year\": 2017, \"J-D\": 0.9}]}}, {\"mode\": \"vega-lite\"});\n",
       "</script>"
      ],
      "text/plain": [
       "alt.Chart(...)"
      ]
     },
     "execution_count": 248,
     "metadata": {},
     "output_type": "execute_result"
    }
   ],
   "source": [
    "base = alt.Chart(df).mark_point(color = '#708090', fill = '#FF6347', size = 100, strokeWidth = 0.5).encode(\n",
    "    x = alt.X(field='Year', \n",
    "              type = 'quantitative', scale = alt.Scale(zero = False), title = None),\n",
    "y = alt.Y(field = 'J-D', type = 'quantitative', scale = alt.Scale(zero = False), title = None))\n",
    "base"
   ]
  },
  {
   "cell_type": "code",
   "execution_count": 249,
   "id": "596038c3",
   "metadata": {},
   "outputs": [
    {
     "data": {
      "text/html": [
       "<div>\n",
       "<style scoped>\n",
       "    .dataframe tbody tr th:only-of-type {\n",
       "        vertical-align: middle;\n",
       "    }\n",
       "\n",
       "    .dataframe tbody tr th {\n",
       "        vertical-align: top;\n",
       "    }\n",
       "\n",
       "    .dataframe thead th {\n",
       "        text-align: right;\n",
       "    }\n",
       "</style>\n",
       "<table border=\"1\" class=\"dataframe\">\n",
       "  <thead>\n",
       "    <tr style=\"text-align: right;\">\n",
       "      <th></th>\n",
       "      <th>Year</th>\n",
       "      <th>Temparature</th>\n",
       "    </tr>\n",
       "  </thead>\n",
       "  <tbody>\n",
       "    <tr>\n",
       "      <th>0</th>\n",
       "      <td>1880</td>\n",
       "      <td>0.02587</td>\n",
       "    </tr>\n",
       "    <tr>\n",
       "      <th>1</th>\n",
       "      <td>2017</td>\n",
       "      <td>0.02587</td>\n",
       "    </tr>\n",
       "  </tbody>\n",
       "</table>\n",
       "</div>"
      ],
      "text/plain": [
       "   Year  Temparature\n",
       "0  1880      0.02587\n",
       "1  2017      0.02587"
      ]
     },
     "execution_count": 249,
     "metadata": {},
     "output_type": "execute_result"
    }
   ],
   "source": [
    "mean = df[\"J-D\"].mean()\n",
    "mean\n",
    "\n",
    "df2 = pd.DataFrame({'Year': [1880, 2017],\n",
    "                   'Temparature': [mean, mean]})\n",
    "df2"
   ]
  },
  {
   "cell_type": "code",
   "execution_count": 250,
   "id": "27db775a",
   "metadata": {},
   "outputs": [
    {
     "data": {
      "text/html": [
       "\n",
       "<div id=\"altair-viz-74a9ee37b9b14c409495683dc1ef892d\"></div>\n",
       "<script type=\"text/javascript\">\n",
       "  (function(spec, embedOpt){\n",
       "    let outputDiv = document.currentScript.previousElementSibling;\n",
       "    if (outputDiv.id !== \"altair-viz-74a9ee37b9b14c409495683dc1ef892d\") {\n",
       "      outputDiv = document.getElementById(\"altair-viz-74a9ee37b9b14c409495683dc1ef892d\");\n",
       "    }\n",
       "    const paths = {\n",
       "      \"vega\": \"https://cdn.jsdelivr.net/npm//vega@5?noext\",\n",
       "      \"vega-lib\": \"https://cdn.jsdelivr.net/npm//vega-lib?noext\",\n",
       "      \"vega-lite\": \"https://cdn.jsdelivr.net/npm//vega-lite@4.8.1?noext\",\n",
       "      \"vega-embed\": \"https://cdn.jsdelivr.net/npm//vega-embed@6?noext\",\n",
       "    };\n",
       "\n",
       "    function loadScript(lib) {\n",
       "      return new Promise(function(resolve, reject) {\n",
       "        var s = document.createElement('script');\n",
       "        s.src = paths[lib];\n",
       "        s.async = true;\n",
       "        s.onload = () => resolve(paths[lib]);\n",
       "        s.onerror = () => reject(`Error loading script: ${paths[lib]}`);\n",
       "        document.getElementsByTagName(\"head\")[0].appendChild(s);\n",
       "      });\n",
       "    }\n",
       "\n",
       "    function showError(err) {\n",
       "      outputDiv.innerHTML = `<div class=\"error\" style=\"color:red;\">${err}</div>`;\n",
       "      throw err;\n",
       "    }\n",
       "\n",
       "    function displayChart(vegaEmbed) {\n",
       "      vegaEmbed(outputDiv, spec, embedOpt)\n",
       "        .catch(err => showError(`Javascript Error: ${err.message}<br>This usually means there's a typo in your chart specification. See the javascript console for the full traceback.`));\n",
       "    }\n",
       "\n",
       "    if(typeof define === \"function\" && define.amd) {\n",
       "      requirejs.config({paths});\n",
       "      require([\"vega-embed\"], displayChart, err => showError(`Error loading script: ${err.message}`));\n",
       "    } else if (typeof vegaEmbed === \"function\") {\n",
       "      displayChart(vegaEmbed);\n",
       "    } else {\n",
       "      loadScript(\"vega\")\n",
       "        .then(() => loadScript(\"vega-lite\"))\n",
       "        .then(() => loadScript(\"vega-embed\"))\n",
       "        .catch(showError)\n",
       "        .then(() => displayChart(vegaEmbed));\n",
       "    }\n",
       "  })({\"config\": {\"view\": {\"continuousWidth\": 400, \"continuousHeight\": 300}}, \"data\": {\"name\": \"data-4a828f8b1c21f5e377af5fcec5126fa2\"}, \"mark\": {\"type\": \"line\", \"color\": \"#A9A9A9\"}, \"encoding\": {\"x\": {\"type\": \"quantitative\", \"field\": \"Year\", \"title\": null}, \"y\": {\"type\": \"quantitative\", \"field\": \"Temparature\", \"title\": null}}, \"$schema\": \"https://vega.github.io/schema/vega-lite/v4.8.1.json\", \"datasets\": {\"data-4a828f8b1c21f5e377af5fcec5126fa2\": [{\"Year\": 1880, \"Temparature\": 0.02586956521739128}, {\"Year\": 2017, \"Temparature\": 0.02586956521739128}]}}, {\"mode\": \"vega-lite\"});\n",
       "</script>"
      ],
      "text/plain": [
       "alt.Chart(...)"
      ]
     },
     "execution_count": 250,
     "metadata": {},
     "output_type": "execute_result"
    }
   ],
   "source": [
    "line = alt.Chart(df2).mark_line(color = \"#A9A9A9\").encode(x = alt.X(field ='Year', type = 'quantitative',title = None),y = alt.Y(field= 'Temparature', type = 'quantitative', title = None))\n",
    "line"
   ]
  },
  {
   "cell_type": "code",
   "execution_count": 251,
   "id": "7f274e3e",
   "metadata": {},
   "outputs": [
    {
     "data": {
      "text/html": [
       "\n",
       "<div id=\"altair-viz-ac816cbad39042d7933cc0da0f6c8fc1\"></div>\n",
       "<script type=\"text/javascript\">\n",
       "  (function(spec, embedOpt){\n",
       "    let outputDiv = document.currentScript.previousElementSibling;\n",
       "    if (outputDiv.id !== \"altair-viz-ac816cbad39042d7933cc0da0f6c8fc1\") {\n",
       "      outputDiv = document.getElementById(\"altair-viz-ac816cbad39042d7933cc0da0f6c8fc1\");\n",
       "    }\n",
       "    const paths = {\n",
       "      \"vega\": \"https://cdn.jsdelivr.net/npm//vega@5?noext\",\n",
       "      \"vega-lib\": \"https://cdn.jsdelivr.net/npm//vega-lib?noext\",\n",
       "      \"vega-lite\": \"https://cdn.jsdelivr.net/npm//vega-lite@4.8.1?noext\",\n",
       "      \"vega-embed\": \"https://cdn.jsdelivr.net/npm//vega-embed@6?noext\",\n",
       "    };\n",
       "\n",
       "    function loadScript(lib) {\n",
       "      return new Promise(function(resolve, reject) {\n",
       "        var s = document.createElement('script');\n",
       "        s.src = paths[lib];\n",
       "        s.async = true;\n",
       "        s.onload = () => resolve(paths[lib]);\n",
       "        s.onerror = () => reject(`Error loading script: ${paths[lib]}`);\n",
       "        document.getElementsByTagName(\"head\")[0].appendChild(s);\n",
       "      });\n",
       "    }\n",
       "\n",
       "    function showError(err) {\n",
       "      outputDiv.innerHTML = `<div class=\"error\" style=\"color:red;\">${err}</div>`;\n",
       "      throw err;\n",
       "    }\n",
       "\n",
       "    function displayChart(vegaEmbed) {\n",
       "      vegaEmbed(outputDiv, spec, embedOpt)\n",
       "        .catch(err => showError(`Javascript Error: ${err.message}<br>This usually means there's a typo in your chart specification. See the javascript console for the full traceback.`));\n",
       "    }\n",
       "\n",
       "    if(typeof define === \"function\" && define.amd) {\n",
       "      requirejs.config({paths});\n",
       "      require([\"vega-embed\"], displayChart, err => showError(`Error loading script: ${err.message}`));\n",
       "    } else if (typeof vegaEmbed === \"function\") {\n",
       "      displayChart(vegaEmbed);\n",
       "    } else {\n",
       "      loadScript(\"vega\")\n",
       "        .then(() => loadScript(\"vega-lite\"))\n",
       "        .then(() => loadScript(\"vega-embed\"))\n",
       "        .catch(showError)\n",
       "        .then(() => displayChart(vegaEmbed));\n",
       "    }\n",
       "  })({\"config\": {\"view\": {\"continuousWidth\": 400, \"continuousHeight\": 300}}, \"layer\": [{\"data\": {\"name\": \"data-4a828f8b1c21f5e377af5fcec5126fa2\"}, \"mark\": {\"type\": \"line\", \"color\": \"#A9A9A9\"}, \"encoding\": {\"x\": {\"type\": \"quantitative\", \"field\": \"Year\", \"title\": null}, \"y\": {\"type\": \"quantitative\", \"field\": \"Temparature\", \"title\": null}}}, {\"data\": {\"name\": \"data-5cba552e0fd77e6cbafb6fd4c5c45f10\"}, \"mark\": {\"type\": \"point\", \"color\": \"#708090\", \"fill\": \"#FF6347\", \"size\": 100, \"strokeWidth\": 0.5}, \"encoding\": {\"x\": {\"type\": \"quantitative\", \"field\": \"Year\", \"scale\": {\"zero\": false}, \"title\": null}, \"y\": {\"type\": \"quantitative\", \"field\": \"J-D\", \"scale\": {\"zero\": false}, \"title\": null}}}], \"background\": \"#F9F9F9\", \"height\": 500, \"padding\": 25, \"width\": 950, \"$schema\": \"https://vega.github.io/schema/vega-lite/v4.8.1.json\", \"datasets\": {\"data-4a828f8b1c21f5e377af5fcec5126fa2\": [{\"Year\": 1880, \"Temparature\": 0.02586956521739128}, {\"Year\": 2017, \"Temparature\": 0.02586956521739128}], \"data-5cba552e0fd77e6cbafb6fd4c5c45f10\": [{\"Year\": 1880, \"J-D\": -0.19}, {\"Year\": 1881, \"J-D\": -0.1}, {\"Year\": 1882, \"J-D\": -0.1}, {\"Year\": 1883, \"J-D\": -0.19}, {\"Year\": 1884, \"J-D\": -0.29}, {\"Year\": 1885, \"J-D\": -0.31}, {\"Year\": 1886, \"J-D\": -0.32}, {\"Year\": 1887, \"J-D\": -0.35}, {\"Year\": 1888, \"J-D\": -0.18}, {\"Year\": 1889, \"J-D\": -0.11}, {\"Year\": 1890, \"J-D\": -0.37}, {\"Year\": 1891, \"J-D\": -0.24}, {\"Year\": 1892, \"J-D\": -0.27}, {\"Year\": 1893, \"J-D\": -0.32}, {\"Year\": 1894, \"J-D\": -0.32}, {\"Year\": 1895, \"J-D\": -0.22}, {\"Year\": 1896, \"J-D\": -0.11}, {\"Year\": 1897, \"J-D\": -0.12}, {\"Year\": 1898, \"J-D\": -0.28}, {\"Year\": 1899, \"J-D\": -0.18}, {\"Year\": 1900, \"J-D\": -0.09}, {\"Year\": 1901, \"J-D\": -0.15}, {\"Year\": 1902, \"J-D\": -0.3}, {\"Year\": 1903, \"J-D\": -0.39}, {\"Year\": 1904, \"J-D\": -0.49}, {\"Year\": 1905, \"J-D\": -0.29}, {\"Year\": 1906, \"J-D\": -0.23}, {\"Year\": 1907, \"J-D\": -0.4}, {\"Year\": 1908, \"J-D\": -0.44}, {\"Year\": 1909, \"J-D\": -0.48}, {\"Year\": 1910, \"J-D\": -0.44}, {\"Year\": 1911, \"J-D\": -0.43}, {\"Year\": 1912, \"J-D\": -0.36}, {\"Year\": 1913, \"J-D\": -0.35}, {\"Year\": 1914, \"J-D\": -0.16}, {\"Year\": 1915, \"J-D\": -0.12}, {\"Year\": 1916, \"J-D\": -0.33}, {\"Year\": 1917, \"J-D\": -0.43}, {\"Year\": 1918, \"J-D\": -0.28}, {\"Year\": 1919, \"J-D\": -0.27}, {\"Year\": 1920, \"J-D\": -0.25}, {\"Year\": 1921, \"J-D\": -0.17}, {\"Year\": 1922, \"J-D\": -0.27}, {\"Year\": 1923, \"J-D\": -0.24}, {\"Year\": 1924, \"J-D\": -0.25}, {\"Year\": 1925, \"J-D\": -0.21}, {\"Year\": 1926, \"J-D\": -0.09}, {\"Year\": 1927, \"J-D\": -0.2}, {\"Year\": 1928, \"J-D\": -0.19}, {\"Year\": 1929, \"J-D\": -0.35}, {\"Year\": 1930, \"J-D\": -0.15}, {\"Year\": 1931, \"J-D\": -0.1}, {\"Year\": 1932, \"J-D\": -0.17}, {\"Year\": 1933, \"J-D\": -0.3}, {\"Year\": 1934, \"J-D\": -0.14}, {\"Year\": 1935, \"J-D\": -0.21}, {\"Year\": 1936, \"J-D\": -0.16}, {\"Year\": 1937, \"J-D\": -0.04}, {\"Year\": 1938, \"J-D\": -0.03}, {\"Year\": 1939, \"J-D\": -0.03}, {\"Year\": 1940, \"J-D\": 0.11}, {\"Year\": 1941, \"J-D\": 0.18}, {\"Year\": 1942, \"J-D\": 0.05}, {\"Year\": 1943, \"J-D\": 0.07}, {\"Year\": 1944, \"J-D\": 0.21}, {\"Year\": 1945, \"J-D\": 0.09}, {\"Year\": 1946, \"J-D\": -0.07}, {\"Year\": 1947, \"J-D\": -0.04}, {\"Year\": 1948, \"J-D\": -0.11}, {\"Year\": 1949, \"J-D\": -0.11}, {\"Year\": 1950, \"J-D\": -0.19}, {\"Year\": 1951, \"J-D\": -0.07}, {\"Year\": 1952, \"J-D\": 0.01}, {\"Year\": 1953, \"J-D\": 0.07}, {\"Year\": 1954, \"J-D\": -0.15}, {\"Year\": 1955, \"J-D\": -0.14}, {\"Year\": 1956, \"J-D\": -0.2}, {\"Year\": 1957, \"J-D\": 0.04}, {\"Year\": 1958, \"J-D\": 0.07}, {\"Year\": 1959, \"J-D\": 0.03}, {\"Year\": 1960, \"J-D\": -0.02}, {\"Year\": 1961, \"J-D\": 0.06}, {\"Year\": 1962, \"J-D\": 0.04}, {\"Year\": 1963, \"J-D\": 0.07}, {\"Year\": 1964, \"J-D\": -0.2}, {\"Year\": 1965, \"J-D\": -0.1}, {\"Year\": 1966, \"J-D\": -0.05}, {\"Year\": 1967, \"J-D\": -0.02}, {\"Year\": 1968, \"J-D\": -0.07}, {\"Year\": 1969, \"J-D\": 0.07}, {\"Year\": 1970, \"J-D\": 0.03}, {\"Year\": 1971, \"J-D\": -0.09}, {\"Year\": 1972, \"J-D\": 0.01}, {\"Year\": 1973, \"J-D\": 0.16}, {\"Year\": 1974, \"J-D\": -0.08}, {\"Year\": 1975, \"J-D\": -0.02}, {\"Year\": 1976, \"J-D\": -0.11}, {\"Year\": 1977, \"J-D\": 0.17}, {\"Year\": 1978, \"J-D\": 0.06}, {\"Year\": 1979, \"J-D\": 0.16}, {\"Year\": 1980, \"J-D\": 0.27}, {\"Year\": 1981, \"J-D\": 0.33}, {\"Year\": 1982, \"J-D\": 0.13}, {\"Year\": 1983, \"J-D\": 0.31}, {\"Year\": 1984, \"J-D\": 0.16}, {\"Year\": 1985, \"J-D\": 0.12}, {\"Year\": 1986, \"J-D\": 0.18}, {\"Year\": 1987, \"J-D\": 0.33}, {\"Year\": 1988, \"J-D\": 0.41}, {\"Year\": 1989, \"J-D\": 0.29}, {\"Year\": 1990, \"J-D\": 0.44}, {\"Year\": 1991, \"J-D\": 0.41}, {\"Year\": 1992, \"J-D\": 0.22}, {\"Year\": 1993, \"J-D\": 0.24}, {\"Year\": 1994, \"J-D\": 0.31}, {\"Year\": 1995, \"J-D\": 0.44}, {\"Year\": 1996, \"J-D\": 0.33}, {\"Year\": 1997, \"J-D\": 0.47}, {\"Year\": 1998, \"J-D\": 0.62}, {\"Year\": 1999, \"J-D\": 0.4}, {\"Year\": 2000, \"J-D\": 0.4}, {\"Year\": 2001, \"J-D\": 0.54}, {\"Year\": 2002, \"J-D\": 0.62}, {\"Year\": 2003, \"J-D\": 0.61}, {\"Year\": 2004, \"J-D\": 0.53}, {\"Year\": 2005, \"J-D\": 0.67}, {\"Year\": 2006, \"J-D\": 0.62}, {\"Year\": 2007, \"J-D\": 0.64}, {\"Year\": 2008, \"J-D\": 0.52}, {\"Year\": 2009, \"J-D\": 0.63}, {\"Year\": 2010, \"J-D\": 0.7}, {\"Year\": 2011, \"J-D\": 0.58}, {\"Year\": 2012, \"J-D\": 0.61}, {\"Year\": 2013, \"J-D\": 0.64}, {\"Year\": 2014, \"J-D\": 0.73}, {\"Year\": 2015, \"J-D\": 0.86}, {\"Year\": 2016, \"J-D\": 0.99}, {\"Year\": 2017, \"J-D\": 0.9}]}}, {\"mode\": \"vega-lite\"});\n",
       "</script>"
      ],
      "text/plain": [
       "alt.LayerChart(...)"
      ]
     },
     "execution_count": 251,
     "metadata": {},
     "output_type": "execute_result"
    }
   ],
   "source": [
    "alt.layer(line, base).properties(width = 950, height = 500, background = '#F9F9F9', padding = 25)"
   ]
  },
  {
   "cell_type": "code",
   "execution_count": 295,
   "id": "d161b912",
   "metadata": {},
   "outputs": [
    {
     "data": {
      "text/html": [
       "\n",
       "<div id=\"altair-viz-c6664f6cde464aefab6f77fc2bf9f9d0\"></div>\n",
       "<script type=\"text/javascript\">\n",
       "  (function(spec, embedOpt){\n",
       "    let outputDiv = document.currentScript.previousElementSibling;\n",
       "    if (outputDiv.id !== \"altair-viz-c6664f6cde464aefab6f77fc2bf9f9d0\") {\n",
       "      outputDiv = document.getElementById(\"altair-viz-c6664f6cde464aefab6f77fc2bf9f9d0\");\n",
       "    }\n",
       "    const paths = {\n",
       "      \"vega\": \"https://cdn.jsdelivr.net/npm//vega@5?noext\",\n",
       "      \"vega-lib\": \"https://cdn.jsdelivr.net/npm//vega-lib?noext\",\n",
       "      \"vega-lite\": \"https://cdn.jsdelivr.net/npm//vega-lite@4.8.1?noext\",\n",
       "      \"vega-embed\": \"https://cdn.jsdelivr.net/npm//vega-embed@6?noext\",\n",
       "    };\n",
       "\n",
       "    function loadScript(lib) {\n",
       "      return new Promise(function(resolve, reject) {\n",
       "        var s = document.createElement('script');\n",
       "        s.src = paths[lib];\n",
       "        s.async = true;\n",
       "        s.onload = () => resolve(paths[lib]);\n",
       "        s.onerror = () => reject(`Error loading script: ${paths[lib]}`);\n",
       "        document.getElementsByTagName(\"head\")[0].appendChild(s);\n",
       "      });\n",
       "    }\n",
       "\n",
       "    function showError(err) {\n",
       "      outputDiv.innerHTML = `<div class=\"error\" style=\"color:red;\">${err}</div>`;\n",
       "      throw err;\n",
       "    }\n",
       "\n",
       "    function displayChart(vegaEmbed) {\n",
       "      vegaEmbed(outputDiv, spec, embedOpt)\n",
       "        .catch(err => showError(`Javascript Error: ${err.message}<br>This usually means there's a typo in your chart specification. See the javascript console for the full traceback.`));\n",
       "    }\n",
       "\n",
       "    if(typeof define === \"function\" && define.amd) {\n",
       "      requirejs.config({paths});\n",
       "      require([\"vega-embed\"], displayChart, err => showError(`Error loading script: ${err.message}`));\n",
       "    } else if (typeof vegaEmbed === \"function\") {\n",
       "      displayChart(vegaEmbed);\n",
       "    } else {\n",
       "      loadScript(\"vega\")\n",
       "        .then(() => loadScript(\"vega-lite\"))\n",
       "        .then(() => loadScript(\"vega-embed\"))\n",
       "        .catch(showError)\n",
       "        .then(() => displayChart(vegaEmbed));\n",
       "    }\n",
       "  })({\"config\": {\"view\": {\"continuousWidth\": 400, \"continuousHeight\": 300}}, \"data\": {\"name\": \"data-fea13cddd481322297b5a16ea19a09d3\"}, \"mark\": {\"type\": \"text\", \"align\": \"right\", \"color\": \"#696969\", \"dx\": 453, \"dy\": 25, \"lineBreak\": \"\\n\"}, \"encoding\": {\"text\": {\"type\": \"nominal\", \"field\": \"text\"}}, \"$schema\": \"https://vega.github.io/schema/vega-lite/v4.8.1.json\", \"datasets\": {\"data-fea13cddd481322297b5a16ea19a09d3\": [{\"text\": \"HOTTER THAN THE\\n1880-1899 AVERAGE\"}]}}, {\"mode\": \"vega-lite\"});\n",
       "</script>"
      ],
      "text/plain": [
       "alt.Chart(...)"
      ]
     },
     "execution_count": 295,
     "metadata": {},
     "output_type": "execute_result"
    }
   ],
   "source": [
    "text1 = alt.Chart(pd.DataFrame({'text': ['HOTTER THAN THE\\n1880-1899 AVERAGE']})).mark_text(align='right', lineBreak='\\n', dx=453, dy=25, color = '#696969').encode(\n",
    "    text = alt.Text(field = 'text', \n",
    "                    type = 'nominal'))\n",
    "text1"
   ]
  },
  {
   "cell_type": "code",
   "execution_count": 347,
   "id": "e66d35bf",
   "metadata": {},
   "outputs": [
    {
     "data": {
      "text/html": [
       "\n",
       "<div id=\"altair-viz-aac573f2a0074dd8989988a4b5f8cc3c\"></div>\n",
       "<script type=\"text/javascript\">\n",
       "  (function(spec, embedOpt){\n",
       "    let outputDiv = document.currentScript.previousElementSibling;\n",
       "    if (outputDiv.id !== \"altair-viz-aac573f2a0074dd8989988a4b5f8cc3c\") {\n",
       "      outputDiv = document.getElementById(\"altair-viz-aac573f2a0074dd8989988a4b5f8cc3c\");\n",
       "    }\n",
       "    const paths = {\n",
       "      \"vega\": \"https://cdn.jsdelivr.net/npm//vega@5?noext\",\n",
       "      \"vega-lib\": \"https://cdn.jsdelivr.net/npm//vega-lib?noext\",\n",
       "      \"vega-lite\": \"https://cdn.jsdelivr.net/npm//vega-lite@4.8.1?noext\",\n",
       "      \"vega-embed\": \"https://cdn.jsdelivr.net/npm//vega-embed@6?noext\",\n",
       "    };\n",
       "\n",
       "    function loadScript(lib) {\n",
       "      return new Promise(function(resolve, reject) {\n",
       "        var s = document.createElement('script');\n",
       "        s.src = paths[lib];\n",
       "        s.async = true;\n",
       "        s.onload = () => resolve(paths[lib]);\n",
       "        s.onerror = () => reject(`Error loading script: ${paths[lib]}`);\n",
       "        document.getElementsByTagName(\"head\")[0].appendChild(s);\n",
       "      });\n",
       "    }\n",
       "\n",
       "    function showError(err) {\n",
       "      outputDiv.innerHTML = `<div class=\"error\" style=\"color:red;\">${err}</div>`;\n",
       "      throw err;\n",
       "    }\n",
       "\n",
       "    function displayChart(vegaEmbed) {\n",
       "      vegaEmbed(outputDiv, spec, embedOpt)\n",
       "        .catch(err => showError(`Javascript Error: ${err.message}<br>This usually means there's a typo in your chart specification. See the javascript console for the full traceback.`));\n",
       "    }\n",
       "\n",
       "    if(typeof define === \"function\" && define.amd) {\n",
       "      requirejs.config({paths});\n",
       "      require([\"vega-embed\"], displayChart, err => showError(`Error loading script: ${err.message}`));\n",
       "    } else if (typeof vegaEmbed === \"function\") {\n",
       "      displayChart(vegaEmbed);\n",
       "    } else {\n",
       "      loadScript(\"vega\")\n",
       "        .then(() => loadScript(\"vega-lite\"))\n",
       "        .then(() => loadScript(\"vega-embed\"))\n",
       "        .catch(showError)\n",
       "        .then(() => displayChart(vegaEmbed));\n",
       "    }\n",
       "  })({\"config\": {\"view\": {\"continuousWidth\": 400, \"continuousHeight\": 300}}, \"data\": {\"name\": \"data-0760dda9251899087a76ebe88f6f2401\"}, \"mark\": {\"type\": \"text\", \"align\": \"right\", \"color\": \"#696969\", \"dx\": 453, \"dy\": 75}, \"encoding\": {\"text\": {\"type\": \"nominal\", \"field\": \"text\"}}, \"$schema\": \"https://vega.github.io/schema/vega-lite/v4.8.1.json\", \"datasets\": {\"data-0760dda9251899087a76ebe88f6f2401\": [{\"text\": \"COLDER\"}]}}, {\"mode\": \"vega-lite\"});\n",
       "</script>"
      ],
      "text/plain": [
       "alt.Chart(...)"
      ]
     },
     "execution_count": 347,
     "metadata": {},
     "output_type": "execute_result"
    }
   ],
   "source": [
    "text2 = alt.Chart(pd.DataFrame({'text': ['COLDER']})).mark_text(align='right', dx=453, dy=75, color = '#696969').encode(\n",
    "    text = alt.Text(field = 'text', \n",
    "                    type = 'nominal'))\n",
    "text2"
   ]
  },
  {
   "cell_type": "code",
   "execution_count": 351,
   "id": "422e9922",
   "metadata": {},
   "outputs": [
    {
     "data": {
      "text/plain": [
       "[-0.49, 0.21, 0.62, 0.73, 0.86, 0.9]"
      ]
     },
     "execution_count": 351,
     "metadata": {},
     "output_type": "execute_result"
    }
   ],
   "source": [
    "temps = df[df[\"Year\"].isin([1904, 1944, 1998, 2014, 2015,2017])]\n",
    "temps_for_points = list(temps[\"J-D\"])\n",
    "temps_for_points"
   ]
  },
  {
   "cell_type": "code",
   "execution_count": 354,
   "id": "324ba1ad",
   "metadata": {},
   "outputs": [],
   "source": [
    "source = pd.DataFrame({\n",
    "    'Year': [1904, 1944, 1998, 2014, 2015,2017],\n",
    "    'Temparature': temps_for_points,\n",
    "    'label': ['1904', '1944', '1998', '2014', '2015','2017']\n",
    "})\n",
    "\n",
    "points = alt.Chart(source).mark_point().encode(\n",
    "    x='Year:Q',\n",
    "    y='Temparature:Q'\n",
    ")\n",
    "\n",
    "labels = points.mark_text(\n",
    "    align='left',\n",
    "    baseline='middle',\n",
    "    dx=7\n",
    ").encode(\n",
    "    text='label'\n",
    ")"
   ]
  },
  {
   "cell_type": "code",
   "execution_count": 355,
   "id": "a71ef39f",
   "metadata": {},
   "outputs": [],
   "source": [
    "source2016 = pd.DataFrame({\n",
    "    'Year': [2016],\n",
    "    'Temparature': [0.99],\n",
    "    'label': ['2016']\n",
    "})\n",
    "\n",
    "points2016 = alt.Chart(source2016).mark_point().encode(\n",
    "    x='Year:Q',\n",
    "    y='Temparature:Q'\n",
    ")\n",
    "\n",
    "labels2016 = points2016.mark_text(\n",
    "    align='left',\n",
    "    baseline='middle',\n",
    "    dx=7, \n",
    "    fontWeight = 'bold'\n",
    ").encode(\n",
    "    text='label'\n",
    ")"
   ]
  },
  {
   "cell_type": "code",
   "execution_count": 344,
   "id": "2307fff7",
   "metadata": {},
   "outputs": [
    {
     "data": {
      "text/html": [
       "\n",
       "<div id=\"altair-viz-99a9d8f6b6bb4330a753722d37e8f20b\"></div>\n",
       "<script type=\"text/javascript\">\n",
       "  (function(spec, embedOpt){\n",
       "    let outputDiv = document.currentScript.previousElementSibling;\n",
       "    if (outputDiv.id !== \"altair-viz-99a9d8f6b6bb4330a753722d37e8f20b\") {\n",
       "      outputDiv = document.getElementById(\"altair-viz-99a9d8f6b6bb4330a753722d37e8f20b\");\n",
       "    }\n",
       "    const paths = {\n",
       "      \"vega\": \"https://cdn.jsdelivr.net/npm//vega@5?noext\",\n",
       "      \"vega-lib\": \"https://cdn.jsdelivr.net/npm//vega-lib?noext\",\n",
       "      \"vega-lite\": \"https://cdn.jsdelivr.net/npm//vega-lite@4.8.1?noext\",\n",
       "      \"vega-embed\": \"https://cdn.jsdelivr.net/npm//vega-embed@6?noext\",\n",
       "    };\n",
       "\n",
       "    function loadScript(lib) {\n",
       "      return new Promise(function(resolve, reject) {\n",
       "        var s = document.createElement('script');\n",
       "        s.src = paths[lib];\n",
       "        s.async = true;\n",
       "        s.onload = () => resolve(paths[lib]);\n",
       "        s.onerror = () => reject(`Error loading script: ${paths[lib]}`);\n",
       "        document.getElementsByTagName(\"head\")[0].appendChild(s);\n",
       "      });\n",
       "    }\n",
       "\n",
       "    function showError(err) {\n",
       "      outputDiv.innerHTML = `<div class=\"error\" style=\"color:red;\">${err}</div>`;\n",
       "      throw err;\n",
       "    }\n",
       "\n",
       "    function displayChart(vegaEmbed) {\n",
       "      vegaEmbed(outputDiv, spec, embedOpt)\n",
       "        .catch(err => showError(`Javascript Error: ${err.message}<br>This usually means there's a typo in your chart specification. See the javascript console for the full traceback.`));\n",
       "    }\n",
       "\n",
       "    if(typeof define === \"function\" && define.amd) {\n",
       "      requirejs.config({paths});\n",
       "      require([\"vega-embed\"], displayChart, err => showError(`Error loading script: ${err.message}`));\n",
       "    } else if (typeof vegaEmbed === \"function\") {\n",
       "      displayChart(vegaEmbed);\n",
       "    } else {\n",
       "      loadScript(\"vega\")\n",
       "        .then(() => loadScript(\"vega-lite\"))\n",
       "        .then(() => loadScript(\"vega-embed\"))\n",
       "        .catch(showError)\n",
       "        .then(() => displayChart(vegaEmbed));\n",
       "    }\n",
       "  })({\"config\": {\"view\": {\"continuousWidth\": 400, \"continuousHeight\": 300}}, \"data\": {\"name\": \"data-8f3446d6fbb48d2f92274560f8019362\"}, \"mark\": {\"type\": \"text\", \"align\": \"left\", \"color\": \"#000000\", \"dx\": -465, \"dy\": -242, \"fontSize\": 14, \"fontWeight\": \"bold\", \"lineBreak\": \"\\n\"}, \"encoding\": {\"text\": {\"type\": \"nominal\", \"field\": \"text\"}}, \"$schema\": \"https://vega.github.io/schema/vega-lite/v4.8.1.json\", \"datasets\": {\"data-8f3446d6fbb48d2f92274560f8019362\": [{\"text\": \"Annual Global Surface Temperature,\\nRelative to Late 19th Century Average\"}]}}, {\"mode\": \"vega-lite\"});\n",
       "</script>"
      ],
      "text/plain": [
       "alt.Chart(...)"
      ]
     },
     "execution_count": 344,
     "metadata": {},
     "output_type": "execute_result"
    }
   ],
   "source": [
    "title = alt.Chart(pd.DataFrame({'text': ['Annual Global Surface Temperature,\\nRelative to Late 19th Century Average']})).mark_text(align='left',lineBreak='\\n', dx=-465, dy=-242,fontSize=14,fontWeight = 'bold', color = '#000000').encode(\n",
    "    text = alt.Text(field = 'text', \n",
    "                    type = 'nominal'))\n",
    "title"
   ]
  },
  {
   "cell_type": "code",
   "execution_count": 356,
   "id": "9a467b2e",
   "metadata": {},
   "outputs": [
    {
     "data": {
      "text/html": [
       "\n",
       "<div id=\"altair-viz-f97dadf7483a432bab88e098d34ecf53\"></div>\n",
       "<script type=\"text/javascript\">\n",
       "  (function(spec, embedOpt){\n",
       "    let outputDiv = document.currentScript.previousElementSibling;\n",
       "    if (outputDiv.id !== \"altair-viz-f97dadf7483a432bab88e098d34ecf53\") {\n",
       "      outputDiv = document.getElementById(\"altair-viz-f97dadf7483a432bab88e098d34ecf53\");\n",
       "    }\n",
       "    const paths = {\n",
       "      \"vega\": \"https://cdn.jsdelivr.net/npm//vega@5?noext\",\n",
       "      \"vega-lib\": \"https://cdn.jsdelivr.net/npm//vega-lib?noext\",\n",
       "      \"vega-lite\": \"https://cdn.jsdelivr.net/npm//vega-lite@4.8.1?noext\",\n",
       "      \"vega-embed\": \"https://cdn.jsdelivr.net/npm//vega-embed@6?noext\",\n",
       "    };\n",
       "\n",
       "    function loadScript(lib) {\n",
       "      return new Promise(function(resolve, reject) {\n",
       "        var s = document.createElement('script');\n",
       "        s.src = paths[lib];\n",
       "        s.async = true;\n",
       "        s.onload = () => resolve(paths[lib]);\n",
       "        s.onerror = () => reject(`Error loading script: ${paths[lib]}`);\n",
       "        document.getElementsByTagName(\"head\")[0].appendChild(s);\n",
       "      });\n",
       "    }\n",
       "\n",
       "    function showError(err) {\n",
       "      outputDiv.innerHTML = `<div class=\"error\" style=\"color:red;\">${err}</div>`;\n",
       "      throw err;\n",
       "    }\n",
       "\n",
       "    function displayChart(vegaEmbed) {\n",
       "      vegaEmbed(outputDiv, spec, embedOpt)\n",
       "        .catch(err => showError(`Javascript Error: ${err.message}<br>This usually means there's a typo in your chart specification. See the javascript console for the full traceback.`));\n",
       "    }\n",
       "\n",
       "    if(typeof define === \"function\" && define.amd) {\n",
       "      requirejs.config({paths});\n",
       "      require([\"vega-embed\"], displayChart, err => showError(`Error loading script: ${err.message}`));\n",
       "    } else if (typeof vegaEmbed === \"function\") {\n",
       "      displayChart(vegaEmbed);\n",
       "    } else {\n",
       "      loadScript(\"vega\")\n",
       "        .then(() => loadScript(\"vega-lite\"))\n",
       "        .then(() => loadScript(\"vega-embed\"))\n",
       "        .catch(showError)\n",
       "        .then(() => displayChart(vegaEmbed));\n",
       "    }\n",
       "  })({\"config\": {\"view\": {\"continuousWidth\": 400, \"continuousHeight\": 300}}, \"layer\": [{\"data\": {\"name\": \"data-4a828f8b1c21f5e377af5fcec5126fa2\"}, \"mark\": {\"type\": \"line\", \"color\": \"#A9A9A9\"}, \"encoding\": {\"x\": {\"type\": \"quantitative\", \"field\": \"Year\", \"title\": null}, \"y\": {\"type\": \"quantitative\", \"field\": \"Temparature\", \"title\": null}}}, {\"data\": {\"name\": \"data-5cba552e0fd77e6cbafb6fd4c5c45f10\"}, \"mark\": {\"type\": \"point\", \"color\": \"#708090\", \"fill\": \"#FF6347\", \"size\": 100, \"strokeWidth\": 0.5}, \"encoding\": {\"x\": {\"type\": \"quantitative\", \"field\": \"Year\", \"scale\": {\"zero\": false}, \"title\": null}, \"y\": {\"type\": \"quantitative\", \"field\": \"J-D\", \"scale\": {\"zero\": false}, \"title\": null}}}, {\"data\": {\"name\": \"data-fea13cddd481322297b5a16ea19a09d3\"}, \"mark\": {\"type\": \"text\", \"align\": \"right\", \"color\": \"#696969\", \"dx\": 453, \"dy\": 25, \"lineBreak\": \"\\n\"}, \"encoding\": {\"text\": {\"type\": \"nominal\", \"field\": \"text\"}}}, {\"data\": {\"name\": \"data-0760dda9251899087a76ebe88f6f2401\"}, \"mark\": {\"type\": \"text\", \"align\": \"right\", \"color\": \"#696969\", \"dx\": 453, \"dy\": 75}, \"encoding\": {\"text\": {\"type\": \"nominal\", \"field\": \"text\"}}}, {\"data\": {\"name\": \"data-5751ef27cfcd40939a0e26e58818f4a6\"}, \"mark\": {\"type\": \"text\", \"align\": \"left\", \"baseline\": \"middle\", \"dx\": 7}, \"encoding\": {\"text\": {\"type\": \"nominal\", \"field\": \"label\"}, \"x\": {\"type\": \"quantitative\", \"field\": \"Year\"}, \"y\": {\"type\": \"quantitative\", \"field\": \"Temparature\"}}}, {\"data\": {\"name\": \"data-047cb816490a1130c6d1e0cd2c88348b\"}, \"mark\": {\"type\": \"text\", \"align\": \"left\", \"baseline\": \"middle\", \"dx\": 7, \"fontWeight\": \"bold\"}, \"encoding\": {\"text\": {\"type\": \"nominal\", \"field\": \"label\"}, \"x\": {\"type\": \"quantitative\", \"field\": \"Year\"}, \"y\": {\"type\": \"quantitative\", \"field\": \"Temparature\"}}}, {\"data\": {\"name\": \"data-8f3446d6fbb48d2f92274560f8019362\"}, \"mark\": {\"type\": \"text\", \"align\": \"left\", \"color\": \"#000000\", \"dx\": -465, \"dy\": -242, \"fontSize\": 14, \"fontWeight\": \"bold\", \"lineBreak\": \"\\n\"}, \"encoding\": {\"text\": {\"type\": \"nominal\", \"field\": \"text\"}}}], \"background\": \"#FFFFFF\", \"height\": 500, \"padding\": 25, \"width\": 950, \"$schema\": \"https://vega.github.io/schema/vega-lite/v4.8.1.json\", \"datasets\": {\"data-4a828f8b1c21f5e377af5fcec5126fa2\": [{\"Year\": 1880, \"Temparature\": 0.02586956521739128}, {\"Year\": 2017, \"Temparature\": 0.02586956521739128}], \"data-5cba552e0fd77e6cbafb6fd4c5c45f10\": [{\"Year\": 1880, \"J-D\": -0.19}, {\"Year\": 1881, \"J-D\": -0.1}, {\"Year\": 1882, \"J-D\": -0.1}, {\"Year\": 1883, \"J-D\": -0.19}, {\"Year\": 1884, \"J-D\": -0.29}, {\"Year\": 1885, \"J-D\": -0.31}, {\"Year\": 1886, \"J-D\": -0.32}, {\"Year\": 1887, \"J-D\": -0.35}, {\"Year\": 1888, \"J-D\": -0.18}, {\"Year\": 1889, \"J-D\": -0.11}, {\"Year\": 1890, \"J-D\": -0.37}, {\"Year\": 1891, \"J-D\": -0.24}, {\"Year\": 1892, \"J-D\": -0.27}, {\"Year\": 1893, \"J-D\": -0.32}, {\"Year\": 1894, \"J-D\": -0.32}, {\"Year\": 1895, \"J-D\": -0.22}, {\"Year\": 1896, \"J-D\": -0.11}, {\"Year\": 1897, \"J-D\": -0.12}, {\"Year\": 1898, \"J-D\": -0.28}, {\"Year\": 1899, \"J-D\": -0.18}, {\"Year\": 1900, \"J-D\": -0.09}, {\"Year\": 1901, \"J-D\": -0.15}, {\"Year\": 1902, \"J-D\": -0.3}, {\"Year\": 1903, \"J-D\": -0.39}, {\"Year\": 1904, \"J-D\": -0.49}, {\"Year\": 1905, \"J-D\": -0.29}, {\"Year\": 1906, \"J-D\": -0.23}, {\"Year\": 1907, \"J-D\": -0.4}, {\"Year\": 1908, \"J-D\": -0.44}, {\"Year\": 1909, \"J-D\": -0.48}, {\"Year\": 1910, \"J-D\": -0.44}, {\"Year\": 1911, \"J-D\": -0.43}, {\"Year\": 1912, \"J-D\": -0.36}, {\"Year\": 1913, \"J-D\": -0.35}, {\"Year\": 1914, \"J-D\": -0.16}, {\"Year\": 1915, \"J-D\": -0.12}, {\"Year\": 1916, \"J-D\": -0.33}, {\"Year\": 1917, \"J-D\": -0.43}, {\"Year\": 1918, \"J-D\": -0.28}, {\"Year\": 1919, \"J-D\": -0.27}, {\"Year\": 1920, \"J-D\": -0.25}, {\"Year\": 1921, \"J-D\": -0.17}, {\"Year\": 1922, \"J-D\": -0.27}, {\"Year\": 1923, \"J-D\": -0.24}, {\"Year\": 1924, \"J-D\": -0.25}, {\"Year\": 1925, \"J-D\": -0.21}, {\"Year\": 1926, \"J-D\": -0.09}, {\"Year\": 1927, \"J-D\": -0.2}, {\"Year\": 1928, \"J-D\": -0.19}, {\"Year\": 1929, \"J-D\": -0.35}, {\"Year\": 1930, \"J-D\": -0.15}, {\"Year\": 1931, \"J-D\": -0.1}, {\"Year\": 1932, \"J-D\": -0.17}, {\"Year\": 1933, \"J-D\": -0.3}, {\"Year\": 1934, \"J-D\": -0.14}, {\"Year\": 1935, \"J-D\": -0.21}, {\"Year\": 1936, \"J-D\": -0.16}, {\"Year\": 1937, \"J-D\": -0.04}, {\"Year\": 1938, \"J-D\": -0.03}, {\"Year\": 1939, \"J-D\": -0.03}, {\"Year\": 1940, \"J-D\": 0.11}, {\"Year\": 1941, \"J-D\": 0.18}, {\"Year\": 1942, \"J-D\": 0.05}, {\"Year\": 1943, \"J-D\": 0.07}, {\"Year\": 1944, \"J-D\": 0.21}, {\"Year\": 1945, \"J-D\": 0.09}, {\"Year\": 1946, \"J-D\": -0.07}, {\"Year\": 1947, \"J-D\": -0.04}, {\"Year\": 1948, \"J-D\": -0.11}, {\"Year\": 1949, \"J-D\": -0.11}, {\"Year\": 1950, \"J-D\": -0.19}, {\"Year\": 1951, \"J-D\": -0.07}, {\"Year\": 1952, \"J-D\": 0.01}, {\"Year\": 1953, \"J-D\": 0.07}, {\"Year\": 1954, \"J-D\": -0.15}, {\"Year\": 1955, \"J-D\": -0.14}, {\"Year\": 1956, \"J-D\": -0.2}, {\"Year\": 1957, \"J-D\": 0.04}, {\"Year\": 1958, \"J-D\": 0.07}, {\"Year\": 1959, \"J-D\": 0.03}, {\"Year\": 1960, \"J-D\": -0.02}, {\"Year\": 1961, \"J-D\": 0.06}, {\"Year\": 1962, \"J-D\": 0.04}, {\"Year\": 1963, \"J-D\": 0.07}, {\"Year\": 1964, \"J-D\": -0.2}, {\"Year\": 1965, \"J-D\": -0.1}, {\"Year\": 1966, \"J-D\": -0.05}, {\"Year\": 1967, \"J-D\": -0.02}, {\"Year\": 1968, \"J-D\": -0.07}, {\"Year\": 1969, \"J-D\": 0.07}, {\"Year\": 1970, \"J-D\": 0.03}, {\"Year\": 1971, \"J-D\": -0.09}, {\"Year\": 1972, \"J-D\": 0.01}, {\"Year\": 1973, \"J-D\": 0.16}, {\"Year\": 1974, \"J-D\": -0.08}, {\"Year\": 1975, \"J-D\": -0.02}, {\"Year\": 1976, \"J-D\": -0.11}, {\"Year\": 1977, \"J-D\": 0.17}, {\"Year\": 1978, \"J-D\": 0.06}, {\"Year\": 1979, \"J-D\": 0.16}, {\"Year\": 1980, \"J-D\": 0.27}, {\"Year\": 1981, \"J-D\": 0.33}, {\"Year\": 1982, \"J-D\": 0.13}, {\"Year\": 1983, \"J-D\": 0.31}, {\"Year\": 1984, \"J-D\": 0.16}, {\"Year\": 1985, \"J-D\": 0.12}, {\"Year\": 1986, \"J-D\": 0.18}, {\"Year\": 1987, \"J-D\": 0.33}, {\"Year\": 1988, \"J-D\": 0.41}, {\"Year\": 1989, \"J-D\": 0.29}, {\"Year\": 1990, \"J-D\": 0.44}, {\"Year\": 1991, \"J-D\": 0.41}, {\"Year\": 1992, \"J-D\": 0.22}, {\"Year\": 1993, \"J-D\": 0.24}, {\"Year\": 1994, \"J-D\": 0.31}, {\"Year\": 1995, \"J-D\": 0.44}, {\"Year\": 1996, \"J-D\": 0.33}, {\"Year\": 1997, \"J-D\": 0.47}, {\"Year\": 1998, \"J-D\": 0.62}, {\"Year\": 1999, \"J-D\": 0.4}, {\"Year\": 2000, \"J-D\": 0.4}, {\"Year\": 2001, \"J-D\": 0.54}, {\"Year\": 2002, \"J-D\": 0.62}, {\"Year\": 2003, \"J-D\": 0.61}, {\"Year\": 2004, \"J-D\": 0.53}, {\"Year\": 2005, \"J-D\": 0.67}, {\"Year\": 2006, \"J-D\": 0.62}, {\"Year\": 2007, \"J-D\": 0.64}, {\"Year\": 2008, \"J-D\": 0.52}, {\"Year\": 2009, \"J-D\": 0.63}, {\"Year\": 2010, \"J-D\": 0.7}, {\"Year\": 2011, \"J-D\": 0.58}, {\"Year\": 2012, \"J-D\": 0.61}, {\"Year\": 2013, \"J-D\": 0.64}, {\"Year\": 2014, \"J-D\": 0.73}, {\"Year\": 2015, \"J-D\": 0.86}, {\"Year\": 2016, \"J-D\": 0.99}, {\"Year\": 2017, \"J-D\": 0.9}], \"data-fea13cddd481322297b5a16ea19a09d3\": [{\"text\": \"HOTTER THAN THE\\n1880-1899 AVERAGE\"}], \"data-0760dda9251899087a76ebe88f6f2401\": [{\"text\": \"COLDER\"}], \"data-5751ef27cfcd40939a0e26e58818f4a6\": [{\"Year\": 1904, \"Temparature\": -0.49, \"label\": \"1904\"}, {\"Year\": 1944, \"Temparature\": 0.21, \"label\": \"1944\"}, {\"Year\": 1998, \"Temparature\": 0.62, \"label\": \"1998\"}, {\"Year\": 2014, \"Temparature\": 0.73, \"label\": \"2014\"}, {\"Year\": 2015, \"Temparature\": 0.86, \"label\": \"2015\"}, {\"Year\": 2017, \"Temparature\": 0.9, \"label\": \"2017\"}], \"data-047cb816490a1130c6d1e0cd2c88348b\": [{\"Year\": 2016, \"Temparature\": 0.99, \"label\": \"2016\"}], \"data-8f3446d6fbb48d2f92274560f8019362\": [{\"text\": \"Annual Global Surface Temperature,\\nRelative to Late 19th Century Average\"}]}}, {\"mode\": \"vega-lite\"});\n",
       "</script>"
      ],
      "text/plain": [
       "alt.LayerChart(...)"
      ]
     },
     "execution_count": 356,
     "metadata": {},
     "output_type": "execute_result"
    }
   ],
   "source": [
    "alt.layer(line, base, text1,text2, labels, labels2016,title).properties(width = 950, height = 500, background = '#FFFFFF', padding = 25)"
   ]
  }
 ],
 "metadata": {
  "kernelspec": {
   "display_name": "Python 3 (ipykernel)",
   "language": "python",
   "name": "python3"
  },
  "language_info": {
   "codemirror_mode": {
    "name": "ipython",
    "version": 3
   },
   "file_extension": ".py",
   "mimetype": "text/x-python",
   "name": "python",
   "nbconvert_exporter": "python",
   "pygments_lexer": "ipython3",
   "version": "3.9.2"
  }
 },
 "nbformat": 4,
 "nbformat_minor": 5
}
